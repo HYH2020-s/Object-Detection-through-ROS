{
 "cells": [
  {
   "cell_type": "markdown",
   "metadata": {},
   "source": [
    "# Preparation for SSD\n",
    "Source: [Single Shot MultiBox Detector Implementation in Pytorch](https://github.com/qfgaohao/pytorch-ssd)"
   ]
  },
  {
   "cell_type": "markdown",
   "metadata": {},
   "source": [
    "#### VGG SSD\n",
    "```\n",
    "wget -P models https://storage.googleapis.com/models-hao/vgg16-ssd-mp-0_7726.pth\n",
    "wget -P models https://storage.googleapis.com/models-hao/voc-model-labels.txt\n",
    "```\n",
    "\n",
    "#### MobileNetV1 SSD\n",
    "```\n",
    "wget -P models https://storage.googleapis.com/models-hao/mobilenet-v1-ssd-mp-0_675.pth\n",
    "wget -P models https://storage.googleapis.com/models-hao/voc-model-labels.txt\n",
    "```\n",
    "\n",
    "#### MobileNetV2 SSD Lite\n",
    "```\n",
    "wget -P models https://storage.googleapis.com/models-hao/mb2-ssd-lite-mp-0_686.pth\n",
    "wget -P models https://storage.googleapis.com/models-hao/voc-model-labels.txt\n",
    "```"
   ]
  },
  {
   "cell_type": "markdown",
   "metadata": {},
   "source": [
    "# SSD with MobileNetV1, 2 & VGG"
   ]
  },
  {
   "cell_type": "code",
   "execution_count": 1,
   "metadata": {},
   "outputs": [],
   "source": [
    "from vision.ssd.vgg_ssd import create_vgg_ssd, create_vgg_ssd_predictor\n",
    "from vision.ssd.mobilenetv1_ssd import create_mobilenetv1_ssd, create_mobilenetv1_ssd_predictor\n",
    "from vision.ssd.mobilenetv1_ssd_lite import create_mobilenetv1_ssd_lite, create_mobilenetv1_ssd_lite_predictor\n",
    "from vision.ssd.squeezenet_ssd_lite import create_squeezenet_ssd_lite, create_squeezenet_ssd_lite_predictor\n",
    "from vision.ssd.mobilenet_v2_ssd_lite import create_mobilenetv2_ssd_lite, create_mobilenetv2_ssd_lite_predictor\n",
    "from vision.utils.misc import Timer\n",
    "import cv2\n",
    "import sys\n",
    "import numpy as np"
   ]
  },
  {
   "cell_type": "code",
   "execution_count": 2,
   "metadata": {},
   "outputs": [],
   "source": [
    "label_path = 'models/voc-model-labels.txt'\n",
    "img_path = 'testset-img/'\n",
    "det_dir = 'predicted_boxes/'\n",
    "\n",
    "class_names = [name.strip() for name in open(label_path).readlines()]\n",
    "num_classes = len(class_names)\n",
    "net_types = ['vgg16-ssd', 'mb1-ssd', 'mb2-ssd-lite']"
   ]
  },
  {
   "cell_type": "code",
   "execution_count": 3,
   "metadata": {},
   "outputs": [],
   "source": [
    "def make_predictor(net_type):\n",
    "    if net_type == 'vgg16-ssd':\n",
    "        model_path = 'models/vgg16-ssd-mp-0_7726.pth'\n",
    "        net = create_vgg_ssd(len(class_names), is_test=True)\n",
    "        net.load(model_path)\n",
    "        predictor = create_vgg_ssd_predictor(net, candidate_size=200)\n",
    "    elif net_type == 'mb1-ssd':\n",
    "        model_path = 'models/mobilenet-v1-ssd-mp-0_675.pth'\n",
    "        net = create_mobilenetv1_ssd(len(class_names), is_test=True)\n",
    "        net.load(model_path)\n",
    "        predictor = create_mobilenetv1_ssd_predictor(net, candidate_size=200)\n",
    "    elif net_type == 'mb2-ssd-lite':\n",
    "        model_path = 'models/mb2-ssd-lite-mp-0_686.pth'\n",
    "        net = create_mobilenetv2_ssd_lite(len(class_names), is_test=True)\n",
    "        net.load(model_path)\n",
    "        predictor = create_mobilenetv2_ssd_lite_predictor(net, candidate_size=200)\n",
    "    else:\n",
    "        print(\"The net type is wrong. It should be one of vgg16-ssd, mb1-ssd and mb1-ssd-lite.\")\n",
    "        \n",
    "    return predictor"
   ]
  },
  {
   "cell_type": "markdown",
   "metadata": {},
   "source": [
    "# Result"
   ]
  },
  {
   "cell_type": "code",
   "execution_count": 4,
   "metadata": {},
   "outputs": [],
   "source": [
    "from os import listdir\n",
    "from os.path import isfile, join\n",
    "import json"
   ]
  },
  {
   "cell_type": "code",
   "execution_count": 5,
   "metadata": {},
   "outputs": [],
   "source": [
    "def read_image(image_file):\n",
    "    image = cv2.imread(image_file)\n",
    "    image = cv2.cvtColor(image, cv2.COLOR_BGR2RGB)\n",
    "    return image"
   ]
  },
  {
   "cell_type": "code",
   "execution_count": 6,
   "metadata": {},
   "outputs": [],
   "source": [
    "def batch_prediction(net_type, img_path, det_dir, print_progress = True): \n",
    "    # loads a model\n",
    "    predictor = make_predictor(net_type)\n",
    "    if print_progress:\n",
    "        print('%s is loaded.' % (net_type))\n",
    "    \n",
    "    # detects objects    \n",
    "    img_names = [f for f in listdir(img_path) if f.endswith('.jpg')]\n",
    "    \n",
    "    result_dict = {}\n",
    "    label = ['person', 'car']\n",
    "    for l in label:\n",
    "        result_dict[l] = {}\n",
    "        for f in img_names:\n",
    "            image = read_image(img_path + f)\n",
    "            boxes, classes, confs = predictor.predict(image, 10, 0.4)\n",
    "            result_dict[l][f] = {}\n",
    "            result_dict[l][f]['boxes'] = []\n",
    "            result_dict[l][f]['scores'] = []\n",
    "            for i, c in enumerate(classes):\n",
    "                # 6: bus, 7: car, 15: person\n",
    "                if (l == 'person' and c == 15) or (l == 'car' and c in [6, 7]):\n",
    "                    result_dict[l][f]['boxes'].append(boxes[i].int().tolist())\n",
    "                    result_dict[l][f]['scores'].append(confs[i].float().tolist())\n",
    "        if print_progress:\n",
    "            print('%s is predicted in %d images.' % (l, len(img_names)))\n",
    "\n",
    "    for l in label:\n",
    "        with open(det_dir+'predicted_boxes-'+net_type+'-'+l+'.json', 'w') as fp:\n",
    "            json.dump(result_dict[l], fp)\n",
    "        if print_progress:\n",
    "            print('%s is writeen.' % (l))"
   ]
  },
  {
   "cell_type": "code",
   "execution_count": 7,
   "metadata": {},
   "outputs": [
    {
     "name": "stdout",
     "output_type": "stream",
     "text": [
      "vgg16-ssd is loaded.\n",
      "person is predicted in 100 images.\n",
      "car is predicted in 100 images.\n",
      "person is writeen.\n",
      "car is writeen.\n",
      "mb1-ssd is loaded.\n",
      "person is predicted in 100 images.\n",
      "car is predicted in 100 images.\n",
      "person is writeen.\n",
      "car is writeen.\n",
      "mb2-ssd-lite is loaded.\n",
      "person is predicted in 100 images.\n",
      "car is predicted in 100 images.\n",
      "person is writeen.\n",
      "car is writeen.\n"
     ]
    }
   ],
   "source": [
    "for net_type in net_types:\n",
    "    batch_prediction(net_type, img_path, det_dir)"
   ]
  }
 ],
 "metadata": {
  "kernelspec": {
   "display_name": "Python 3",
   "language": "python",
   "name": "python3"
  },
  "language_info": {
   "codemirror_mode": {
    "name": "ipython",
    "version": 3
   },
   "file_extension": ".py",
   "mimetype": "text/x-python",
   "name": "python",
   "nbconvert_exporter": "python",
   "pygments_lexer": "ipython3",
   "version": "3.6.10"
  }
 },
 "nbformat": 4,
 "nbformat_minor": 4
}
