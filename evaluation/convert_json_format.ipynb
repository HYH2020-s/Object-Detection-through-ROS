{
 "cells": [
  {
   "cell_type": "code",
   "execution_count": 1,
   "metadata": {},
   "outputs": [],
   "source": [
    "import json"
   ]
  },
  {
   "cell_type": "code",
   "execution_count": 2,
   "metadata": {},
   "outputs": [],
   "source": [
    "from os import listdir\n",
    "from os.path import isfile, join\n",
    "\n",
    "label = ['person', 'car']"
   ]
  },
  {
   "cell_type": "code",
   "execution_count": 3,
   "metadata": {},
   "outputs": [
    {
     "name": "stdout",
     "output_type": "stream",
     "text": [
      "{'person': {'frame0025.jpg': [[552.910569105691, 352.9918699186992, 578.9268292682926, 412.3414634146342], [596.0, 371.6910569105691, 620.390243902439, 410.7154471544716], [650.4715447154472, 329.4146341463415, 684.6178861788618, 413.1544715447155], [727.7073170731708, 330.2276422764228, 765.1056910569106, 412.3414634146342], [700.0650406504066, 378.1951219512195, 717.1382113821138, 405.0243902439025], [720.390243902439, 369.2520325203252, 740.7154471544716, 411.5284552845529], [769.170731707317, 339.1707317073171, 804.130081300813, 415.5934959349594], [797.6260162601626, 337.5447154471545, 823.6422764227642, 409.9024390243903], [826.0813008130082, 331.0406504065041, 840.7154471544716, 408.2764227642277], [834.2113821138212, 329.4146341463415, 863.479674796748, 413.9674796747968], [852.910569105691, 322.9105691056911, 882.178861788618, 408.2764227642277], [886.2439024390244, 321.2845528455285, 926.0813008130082, 409.089430894309], [967.5447154471544, 310.7154471544716, 1009.8211382113822, 402.5853658536585], [1095.1869918699188, 289.5772357723577, 1151.2845528455284, 404.2113821138212]], 'frame0082-per.jpg': [[631.7723577235772, 358.6829268292683, 654.5365853658536, 400.9593495934959], [672.4227642276422, 357.869918699187, 688.6829268292684, 399.3333333333333], [723.6422764227642, 363.5609756097561, 740.7154471544716, 398.520325203252], [840.7154471544716, 350.5528455284553, 866.7317073170732, 396.0813008130081], [777.3008130081301, 393.6422764227642, 761.8536585365854, 366.0], [748.0325203252032, 366.8130081300813, 761.8536585365854, 392.8292682926829], [737.4634146341464, 366.8130081300813, 751.2845528455284, 397.7073170731707]]}, 'car': {'frame0090-car.jpg': [[608.1951219512196, 173.3170731707317, 1161.8536585365853, 405.0243902439025], [899.2520325203252, 236.7317073170732, 1196.8130081300812, 395.2682926829268]], 'frame0074-car.jpg': [[35.02439024390244, 398.520325203252, 0, 365]]}}\n"
     ]
    }
   ],
   "source": [
    "boxes_dict = {}\n",
    "for l in label:\n",
    "    boxes_dict[l] = {}\n",
    "    json_dir = '/Users/chanho/Documents/GitLab/niceface/evaluation/testset-jsonfile/' + l + '/'\n",
    "    file_names = [f for f in listdir(json_dir)]\n",
    "    for f in file_names[:2]:\n",
    "        f_path = json_dir + f\n",
    "        with open(f_path) as json_file:\n",
    "            data = json.load(json_file)\n",
    "            f = f.replace('json', 'jpg')\n",
    "            boxes_dict[l][f] = []\n",
    "            for s in data['shapes']:\n",
    "                points = []\n",
    "                for p in s['points']:\n",
    "                    points += p\n",
    "                boxes_dict[l][f].append(points)\n",
    "print(boxes_dict)"
   ]
  },
  {
   "cell_type": "code",
   "execution_count": 4,
   "metadata": {},
   "outputs": [],
   "source": [
    "for l in label:\n",
    "    det_dir = '/Users/chanho/Documents/GitLab/niceface/evaluation/ground_truth_boxes/'\n",
    "    with open(det_dir + 'ground_truth_boxes-YOLOv3-'+l+'.json', 'w') as fp:\n",
    "        json.dump(boxes_dict[l], fp)   "
   ]
  }
 ],
 "metadata": {
  "kernelspec": {
   "display_name": "Python 3",
   "language": "python",
   "name": "python3"
  },
  "language_info": {
   "codemirror_mode": {
    "name": "ipython",
    "version": 3
   },
   "file_extension": ".py",
   "mimetype": "text/x-python",
   "name": "python",
   "nbconvert_exporter": "python",
   "pygments_lexer": "ipython3",
   "version": "3.8.2"
  }
 },
 "nbformat": 4,
 "nbformat_minor": 4
}
