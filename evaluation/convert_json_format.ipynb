{
 "cells": [
  {
   "cell_type": "code",
   "execution_count": 1,
   "metadata": {},
   "outputs": [],
   "source": [
    "import json"
   ]
  },
  {
   "cell_type": "code",
   "execution_count": 2,
   "metadata": {},
   "outputs": [],
   "source": [
    "from os import listdir\n",
    "from os.path import isfile, join\n",
    "\n",
    "label = ['person', 'car']\n",
    "img_dir = '/Users/chanho/Documents/GitLab/niceface/evaluation/testset-img/'\n",
    "img_names = [f for f in listdir(img_dir) if f.endswith('.jpg')]"
   ]
  },
  {
   "cell_type": "code",
   "execution_count": 3,
   "metadata": {},
   "outputs": [],
   "source": [
    "def get_points(p):\n",
    "    p1 = p[0]\n",
    "    p2 = p[1]\n",
    "    \n",
    "    if p1[0] > p2[0]:\n",
    "        xmax, xmin = p1[0], p2[0]\n",
    "    else:\n",
    "        xmin, xmax = p1[0], p2[0]\n",
    "        \n",
    "    if p1[1] > p2[1]:\n",
    "        ymax, ymin = p1[1], p2[1]\n",
    "    else:\n",
    "        ymin, ymax = p1[1], p2[1]\n",
    "\n",
    "    return [int(xmin), int(ymin), int(xmax), int(ymax)]"
   ]
  },
  {
   "cell_type": "code",
   "execution_count": 4,
   "metadata": {
    "scrolled": true
   },
   "outputs": [],
   "source": [
    "boxes_dict = {}\n",
    "for l in label:\n",
    "    boxes_dict[l] = {}\n",
    "    json_dir = '/Users/chanho/Documents/GitLab/niceface/evaluation/testset-jsonfile/' + l + '/'\n",
    "    json_names = [f for f in listdir(json_dir) if f.endswith('.json')]\n",
    "#     print(json_names)\n",
    "    for f in img_names: \n",
    "        boxes_dict[l][f] = []\n",
    "        if f.replace('jpg', 'json') in json_names:\n",
    "#             print(f.replace('jpg', 'json'))\n",
    "            f_path = json_dir + f.replace('jpg', 'json')\n",
    "            with open(f_path) as json_file:\n",
    "                data = json.load(json_file)\n",
    "                for s in data['shapes']:\n",
    "    #                 points = []\n",
    "\n",
    "    #                 for p in s['points']:\n",
    "    #                     points += [int(p[0]), int(p[1])]\n",
    "\n",
    "    #                 if s['points'][0][0] > s['points'][1][0]:\n",
    "    #                     points += [int(s['points'][1][0]), int(s['points'][1][1])]\n",
    "    #                     points += [int(s['points'][0][0]), int(s['points'][0][1])]\n",
    "    #                 else:\n",
    "    #                     points += [int(s['points'][0][0]), int(s['points'][0][1])]\n",
    "    #                     points += [int(s['points'][1][0]), int(s['points'][1][1])]\n",
    "                    boxes_dict[l][f].append(get_points(s['points']))\n",
    "#         else:\n",
    "#             boxes_dict[l][f].append([])"
   ]
  },
  {
   "cell_type": "code",
   "execution_count": 5,
   "metadata": {},
   "outputs": [],
   "source": [
    "for l in label:\n",
    "    det_dir = '/Users/chanho/Documents/GitLab/niceface/evaluation/ground_truth_boxes/'\n",
    "    with open(det_dir + 'ground_truth_boxes-YOLOv3-'+l+'.json', 'w') as fp:\n",
    "        json.dump(boxes_dict[l], fp)   "
   ]
  }
 ],
 "metadata": {
  "kernelspec": {
   "display_name": "Python 3",
   "language": "python",
   "name": "python3"
  },
  "language_info": {
   "codemirror_mode": {
    "name": "ipython",
    "version": 3
   },
   "file_extension": ".py",
   "mimetype": "text/x-python",
   "name": "python",
   "nbconvert_exporter": "python",
   "pygments_lexer": "ipython3",
   "version": "3.8.2"
  }
 },
 "nbformat": 4,
 "nbformat_minor": 4
}
