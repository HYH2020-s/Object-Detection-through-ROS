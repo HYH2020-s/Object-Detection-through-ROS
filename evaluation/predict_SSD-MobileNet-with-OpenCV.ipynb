{
 "cells": [
  {
   "cell_type": "markdown",
   "metadata": {},
   "source": [
    "# Preparation for SSD MobileNet with OpenCV\n",
    "Source: [Object detection with deep learning and OpenCV](https://www.pyimagesearch.com/2017/09/11/object-detection-with-deep-learning-and-opencv/)\n",
    "\n",
    "#### get resources\n",
    "https://app.monstercampaigns.com/c/tortsem7qkvyuxc4cyfi"
   ]
  },
  {
   "cell_type": "markdown",
   "metadata": {},
   "source": [
    "# SSD MobileNet with OpenCV"
   ]
  },
  {
   "cell_type": "code",
   "execution_count": 1,
   "metadata": {},
   "outputs": [],
   "source": [
    "# import the necessary packages\n",
    "import numpy as np\n",
    "import cv2\n",
    "from os import listdir\n",
    "from os.path import isfile, join\n",
    "import json"
   ]
  },
  {
   "cell_type": "code",
   "execution_count": 2,
   "metadata": {},
   "outputs": [],
   "source": [
    "args = {}\n",
    "args[\"prototxt\"] = 'models/MobileNetSSD_deploy.prototxt.txt'\n",
    "args[\"model\"] = 'models/MobileNetSSD_deploy.caffemodel'\n",
    "args[\"confidence\"] = 0.2\n",
    "\n",
    "img_path = 'testset-img/'\n",
    "args[\"image\"] = [f for f in listdir(img_path) if f.endswith('.jpg')]\n",
    "\n",
    "det_dir = 'predicted_boxes/'\n",
    "net_type = 'ssd-mobilenet-opencv'"
   ]
  },
  {
   "cell_type": "code",
   "execution_count": 3,
   "metadata": {},
   "outputs": [],
   "source": [
    "# initialize the list of class labels MobileNet SSD was trained to\n",
    "# detect, then generate a set of bounding box colors for each class\n",
    "CLASSES = [\"background\", \"aeroplane\", \"bicycle\", \"bird\", \"boat\",\n",
    "\t\"bottle\", \"bus\", \"car\", \"cat\", \"chair\", \"cow\", \"diningtable\",\n",
    "\t\"dog\", \"horse\", \"motorbike\", \"person\", \"pottedplant\", \"sheep\",\n",
    "\t\"sofa\", \"train\", \"tvmonitor\"]"
   ]
  },
  {
   "cell_type": "code",
   "execution_count": 4,
   "metadata": {},
   "outputs": [
    {
     "name": "stdout",
     "output_type": "stream",
     "text": [
      "[INFO] loading model...\n"
     ]
    }
   ],
   "source": [
    "# load our serialized model from disk\n",
    "print(\"[INFO] loading model...\")\n",
    "net = cv2.dnn.readNetFromCaffe(args[\"prototxt\"], args[\"model\"])"
   ]
  },
  {
   "cell_type": "code",
   "execution_count": 5,
   "metadata": {},
   "outputs": [],
   "source": [
    "# load the input image and construct an input blob for the image\n",
    "# by resizing to a fixed 300x300 pixels and then normalizing it\n",
    "# (note: normalization is done via the authors of the MobileNet SSD\n",
    "# implementation)\n",
    "result_dict = {}\n",
    "label = ['person', 'car']\n",
    "for l in label: \n",
    "    result_dict[l] = {}\n",
    "    for f in args[\"image\"]:\n",
    "        image = cv2.imread(img_path + f)\n",
    "        (h, w) = image.shape[:2]\n",
    "        blob = cv2.dnn.blobFromImage(cv2.resize(image, (300, 300)), 0.007843, (300, 300), 127.5)\n",
    "\n",
    "        result_dict[l][f] = {}\n",
    "        result_dict[l][f]['boxes'] = []\n",
    "        result_dict[l][f]['scores'] = []\n",
    "        \n",
    "        # pass the blob through the network and obtain the detections and\n",
    "        # predictions\n",
    "        net.setInput(blob)\n",
    "        detections = net.forward()\n",
    "\n",
    "        # loop over the detections\n",
    "        for i in np.arange(0, detections.shape[2]):\n",
    "            # extract the confidence (i.e., probability) associated with the\n",
    "            # prediction\n",
    "            confidence = detections[0, 0, i, 2]\n",
    "\n",
    "            # filter out weak detections by ensuring the `confidence` is\n",
    "            # greater than the minimum confidence\n",
    "            if confidence > args[\"confidence\"]:\n",
    "                # extract the index of the class label from the `detections`,\n",
    "                # then compute the (x, y)-coordinates of the bounding box for\n",
    "                # the object\n",
    "                idx = int(detections[0, 0, i, 1])\n",
    "                box = detections[0, 0, i, 3:7] * np.array([w, h, w, h])\n",
    "                (startX, startY, endX, endY) = box.astype(\"int\")\n",
    "\n",
    "                # display the prediction\n",
    "                c = CLASSES[idx]\n",
    "                if (l == 'person' and idx == 15) or (l == 'car' and idx in [6, 7]):\n",
    "                        result_dict[l][f]['boxes'].append([int(startX), int(startY), int(endX), int(endY)])\n",
    "                        result_dict[l][f]['scores'].append(float(confidence))"
   ]
  },
  {
   "cell_type": "code",
   "execution_count": 6,
   "metadata": {},
   "outputs": [],
   "source": [
    "for l in label:\n",
    "    with open(det_dir+'predicted_boxes-'+net_type+'-'+l+'.json', 'w') as fp:\n",
    "        json.dump(result_dict[l], fp)"
   ]
  }
 ],
 "metadata": {
  "kernelspec": {
   "display_name": "Python 3",
   "language": "python",
   "name": "python3"
  },
  "language_info": {
   "codemirror_mode": {
    "name": "ipython",
    "version": 3
   },
   "file_extension": ".py",
   "mimetype": "text/x-python",
   "name": "python",
   "nbconvert_exporter": "python",
   "pygments_lexer": "ipython3",
   "version": "3.8.2"
  }
 },
 "nbformat": 4,
 "nbformat_minor": 4
}
