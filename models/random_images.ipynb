{
 "cells": [
  {
   "cell_type": "code",
   "execution_count": 17,
   "metadata": {},
   "outputs": [
    {
     "name": "stdout",
     "output_type": "stream",
     "text": [
      "[5670, 1051, 4732, 344, 3462, 101, 9348, 1527, 6747, 9381, 7838, 158, 4730, 791, 7944, 2414, 100, 1419, 7066, 1860, 7533, 2778, 5965, 8110, 8025, 9677, 6739, 1641, 534, 6283, 2336, 947, 3707, 9803, 1189, 7275, 2985, 3514, 1006, 7499, 4951, 3283, 1997, 6513, 2961, 1617, 6929, 5941, 6939, 2681, 2364, 5284, 2856, 7365, 1265, 9804, 2049, 323, 4663, 6656, 6305, 498, 7404, 6067, 4201]\n",
      "[375, 5206, 3161, 1214, 5102, 5218, 302, 183, 3212, 4816, 2136, 1362, 6008, 5489, 506, 1304, 1486, 5327, 1083, 3969, 3611, 4535, 1881, 132, 2848, 464, 5012, 1033, 294, 3944, 1787, 4013, 3903, 512, 2306]\n"
     ]
    }
   ],
   "source": [
    "import random\n",
    "from shutil import copyfile\n",
    "\n",
    "random_file_list_13 = [random.randint(0,10591-1) for _ in range(65)]\n",
    "random_file_list_14 = [random.randint(0,6388-1) for _ in range(35)]\n",
    "\n",
    "print(random_file_list_13)\n",
    "print(random_file_list_14)"
   ]
  },
  {
   "cell_type": "code",
   "execution_count": 18,
   "metadata": {},
   "outputs": [],
   "source": [
    "counter = 0\n",
    "try:\n",
    "    for file_num_13 in random_file_list_13:\n",
    "        if file_num_13<10000:\n",
    "            copyfile('/home/reg1s/Postgraduate/TeamProject/Data/13/frame'+str(file_num_13).zfill(4)+'.jpg','/home/reg1s/Postgraduate/TeamProject/Data/testset/frame'+str(counter).zfill(4)+'.jpg')\n",
    "        if file_num_13>=10000:\n",
    "            copyfile('/home/reg1s/Postgraduate/TeamProject/Data/13/frame'+str(file_num_13)+'.jpg','/home/reg1s/Postgraduate/TeamProject/Data/testset/frame'+str(counter).zfill(4)+'.jpg')\n",
    "        counter += 1\n",
    "except:\n",
    "    print('Unable to copy file:'+'/home/reg1s/Postgraduate/TeamProject/Data/13/frame'+str(file_num_13)+'.jpg')\n",
    "    exit(1)\n",
    "try:\n",
    "    for file_num_14 in random_file_list_14:\n",
    "        copyfile('/home/reg1s/Postgraduate/TeamProject/Data/14/frame'+str(file_num_14).zfill(4)+'.jpg','/home/reg1s/Postgraduate/TeamProject/Data/testset/frame'+str(counter).zfill(4)+'.jpg')\n",
    "        counter += 1\n",
    "except:\n",
    "    print('Unable to copy file:'+'/home/reg1s/Postgraduate/TeamProject/Data/14/frame'+str(file_num_14).zfill(4)+'.jpg')\n",
    "    exit(1)\n",
    "\n",
    "print('done!')"
   ]
  },
  {
   "cell_type": "code",
   "execution_count": null,
   "metadata": {},
   "outputs": [],
   "source": []
  },
  {
   "cell_type": "code",
   "execution_count": null,
   "metadata": {},
   "outputs": [],
   "source": []
  }
 ],
 "metadata": {
  "kernelspec": {
   "display_name": "Python 3",
   "language": "python",
   "name": "python3"
  },
  "language_info": {
   "codemirror_mode": {
    "name": "ipython",
    "version": 3
   },
   "file_extension": ".py",
   "mimetype": "text/x-python",
   "name": "python",
   "nbconvert_exporter": "python",
   "pygments_lexer": "ipython3",
   "version": "3.7.4"
  }
 },
 "nbformat": 4,
 "nbformat_minor": 2
}
